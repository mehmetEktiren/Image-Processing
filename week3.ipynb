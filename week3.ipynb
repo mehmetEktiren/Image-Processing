{
 "cells": [
  {
   "cell_type": "code",
   "execution_count": 1,
   "metadata": {},
   "outputs": [
    {
     "data": {
      "text/plain": [
       "(3.3, 2.2333333333333334)"
      ]
     },
     "execution_count": 1,
     "metadata": {},
     "output_type": "execute_result"
    }
   ],
   "source": [
    "my_list_1=[2,4,3,4,5,6,3,3,2,1]\n",
    "def my_function_1(my_list_1=[2,4,3,4,5,6,3,3,2,1]):\n",
    "    t=0\n",
    "    s=0\n",
    "    for i in my_list_1:\n",
    "        s=s+1\n",
    "        t=t+i\n",
    "    mean_1=t/s #ortalama\n",
    "    \n",
    "    t=0       \n",
    "    s=0\n",
    "    for i in my_list_1:\n",
    "        s=s+1\n",
    "        t=t+(i-mean_1)*(i-mean_1)\n",
    "    var_1=t/(s-1)   #varyans\n",
    "    \n",
    "    return mean_1,var_1\n",
    "my_function_1()"
   ]
  },
  {
   "cell_type": "code",
   "execution_count": 2,
   "metadata": {},
   "outputs": [
    {
     "data": {
      "text/plain": [
       "{2: 2, 4: 2, 3: 3, 5: 1, 6: 1, 1: 1}"
      ]
     },
     "execution_count": 2,
     "metadata": {},
     "output_type": "execute_result"
    }
   ],
   "source": [
    "#histogram bilgisini elde etme:\n",
    "my_histogram={}   #erişimin hızlı olması için\n",
    "for i in my_list_1:\n",
    "    if i in my_histogram.keys():\n",
    "        my_histogram[i]=my_histogram[i]+1    #listede bu eleman varsa sayıyı 1 arttır\n",
    "    else:\n",
    "        my_histogram[i]=1     #eğer o eleman daha önce bulunmadıysa 1 yazdır\n",
    "my_histogram   #çıktı -> 2 sayısı 2 tane var, 4 sayısı 1 tane var"
   ]
  },
  {
   "cell_type": "code",
   "execution_count": 3,
   "metadata": {},
   "outputs": [
    {
     "name": "stdout",
     "output_type": "stream",
     "text": [
      "2 2\n",
      "4 2\n",
      "3 3\n",
      "5 1\n",
      "6 1\n",
      "1 1\n"
     ]
    }
   ],
   "source": [
    "for i in my_histogram.keys():\n",
    "    print(i,my_histogram[i])\n",
    "#my_histogram.keys() hangi elemandan kaç tane olduğunu listeler"
   ]
  },
  {
   "cell_type": "code",
   "execution_count": 4,
   "metadata": {},
   "outputs": [
    {
     "data": {
      "text/plain": [
       "(3, (159, 318, 3))"
      ]
     },
     "execution_count": 4,
     "metadata": {},
     "output_type": "execute_result"
    }
   ],
   "source": [
    "import matplotlib.pyplot as plt\n",
    "import numpy as np\n",
    "image_1=plt.imread('truva.jpeg')\n",
    "image_1.ndim,image_1.shape"
   ]
  },
  {
   "cell_type": "code",
   "execution_count": 5,
   "metadata": {},
   "outputs": [],
   "source": [
    "#histogramı bulan fonksiyon:\n",
    "def my_function_2(image_1=plt.imread('truva.jpeg')):\n",
    "    m,n,p=image_1.shape\n",
    "    my_histogram={}\n",
    "    for i in range(m):\n",
    "        for j in range(n):\n",
    "            if image_1[i,j,0] in my_histogram.keys():\n",
    "                my_histogram[image_1[i,j,0]]=my_histogram[image_1[i,j,0]]+1\n",
    "            else:\n",
    "                my_histogram[image_1[i,j,0]]=1\n",
    "    return my_histogram"
   ]
  },
  {
   "cell_type": "code",
   "execution_count": 6,
   "metadata": {},
   "outputs": [],
   "source": [
    "def my_function_3(my_histogram=my_function_2()):\n",
    "    x=[]  #soldaki değerler\n",
    "    y=[]   #sağdaki değerler\n",
    "    for key in  my_histogram.keys():\n",
    "        x.append(key)\n",
    "        y.append(my_histogram[key])\n",
    "    return x,y"
   ]
  },
  {
   "cell_type": "code",
   "execution_count": 7,
   "metadata": {},
   "outputs": [
    {
     "data": {
      "image/png": "[encoded data removed]",
      "text/plain": [
       "<Figure size 432x288 with 1 Axes>"
      ]
     },
     "metadata": {
      "needs_background": "light"
     },
     "output_type": "display_data"
    }
   ],
   "source": [
    "x,y=my_function_3()\n",
    "plt.bar(x,y)  #grafiğe aktarma\n",
    "plt.show()"
   ]
  }
 ],
 "metadata": {
  "kernelspec": {
   "display_name": "Python 3",
   "language": "python",
   "name": "python3"
  },
  "language_info": {
   "codemirror_mode": {
    "name": "ipython",
    "version": 3
   },
   "file_extension": ".py",
   "mimetype": "text/x-python",
   "name": "python",
   "nbconvert_exporter": "python",
   "pygments_lexer": "ipython3",
   "version": "3.7.3"
  }
 },
 "nbformat": 4,
 "nbformat_minor": 2
}
